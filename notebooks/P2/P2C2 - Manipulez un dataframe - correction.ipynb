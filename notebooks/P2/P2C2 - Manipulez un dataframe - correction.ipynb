{
  "cells": [
    {
      "cell_type": "markdown",
      "id": "41efa7df",
      "metadata": {
        "id": "41efa7df"
      },
      "source": [
        "![openclassrooms](https://s3.eu-west-1.amazonaws.com/course.oc-static.com/courses/6204541/1+HnqdJ-5ofxiPP9HIxdNdpw.jpeg)\n",
        "\n",
        "# Manipulez un dataframe\n",
        "\n",
        "Nous allons travailler à présent sur notre fichier de prêts immobiliers.\n",
        "\n",
        "Pour expliquer rapidement ce fichier, chaque ligne correspond à un prêt qui a été accordé à un de nos clients. Chaque client est identifié par… son identifiant ! Nous avons les informations suivantes :\n",
        "- la ville et le code postale de l’agence où le client a contracté le prêt\n",
        "- le revenu mensuel du client\n",
        "- les mensualités remboursées par le client\n",
        "- la durée du prêt contracté, en nombre de mois\n",
        "- le type de prêt\n",
        "- et enfin le taux d’intérêt\n",
        "\n",
        "Votre rôle cette fois ci va être de modifier ce jeu de données pour calculer différentes variables nécessaires pour identifier les clients qui sont à la limite de leur capacité de remboursement et déterminer les bénéfices réalisées par la banque.\n"
      ]
    },
    {
      "cell_type": "code",
      "execution_count": null,
      "id": "ec616750",
      "metadata": {
        "id": "ec616750"
      },
      "outputs": [],
      "source": [
        "import numpy as np\n",
        "import pandas as pd"
      ]
    },
    {
      "cell_type": "markdown",
      "id": "64934038",
      "metadata": {
        "id": "64934038"
      },
      "source": [
        "Commençons par importer notre fichier csv. Celui ci sera disponible via un lien, pour faciliter le bon fonctionnement avec Google Colab, mais promis, c'est **le même fichier** que celui que vous pouvez télécharger [sur le lien suivant](https://raw.githubusercontent.com/benjaminmrl/data-4452741/main/prets.csv) *(click droit, enregistrer sous)*"
      ]
    },
    {
      "cell_type": "code",
      "execution_count": null,
      "id": "f8934e5c",
      "metadata": {
        "id": "f8934e5c",
        "outputId": "35f49e32-f5aa-4039-d6e9-ed9187f289dd"
      },
      "outputs": [
        {
          "data": {
            "text/html": [
              "<div>\n",
              "<style scoped>\n",
              "    .dataframe tbody tr th:only-of-type {\n",
              "        vertical-align: middle;\n",
              "    }\n",
              "\n",
              "    .dataframe tbody tr th {\n",
              "        vertical-align: top;\n",
              "    }\n",
              "\n",
              "    .dataframe thead th {\n",
              "        text-align: right;\n",
              "    }\n",
              "</style>\n",
              "<table border=\"1\" class=\"dataframe\">\n",
              "  <thead>\n",
              "    <tr style=\"text-align: right;\">\n",
              "      <th></th>\n",
              "      <th>identifiant</th>\n",
              "      <th>ville</th>\n",
              "      <th>CP</th>\n",
              "      <th>revenu</th>\n",
              "      <th>remboursement</th>\n",
              "      <th>duree</th>\n",
              "      <th>type</th>\n",
              "      <th>taux</th>\n",
              "    </tr>\n",
              "  </thead>\n",
              "  <tbody>\n",
              "    <tr>\n",
              "      <th>0</th>\n",
              "      <td>0</td>\n",
              "      <td>TOULOUSE</td>\n",
              "      <td>31100</td>\n",
              "      <td>3669.0</td>\n",
              "      <td>1130.05</td>\n",
              "      <td>240</td>\n",
              "      <td>immobilier</td>\n",
              "      <td>1.168</td>\n",
              "    </tr>\n",
              "    <tr>\n",
              "      <th>1</th>\n",
              "      <td>1</td>\n",
              "      <td>PARIS</td>\n",
              "      <td>75009</td>\n",
              "      <td>5310.0</td>\n",
              "      <td>240.00</td>\n",
              "      <td>64</td>\n",
              "      <td>automobile</td>\n",
              "      <td>3.701</td>\n",
              "    </tr>\n",
              "    <tr>\n",
              "      <th>2</th>\n",
              "      <td>1</td>\n",
              "      <td>PARIS</td>\n",
              "      <td>75009</td>\n",
              "      <td>5310.0</td>\n",
              "      <td>1247.85</td>\n",
              "      <td>300</td>\n",
              "      <td>immobilier</td>\n",
              "      <td>1.173</td>\n",
              "    </tr>\n",
              "    <tr>\n",
              "      <th>3</th>\n",
              "      <td>2</td>\n",
              "      <td>MARSEILLE</td>\n",
              "      <td>13010</td>\n",
              "      <td>1873.0</td>\n",
              "      <td>552.54</td>\n",
              "      <td>240</td>\n",
              "      <td>immobilier</td>\n",
              "      <td>0.972</td>\n",
              "    </tr>\n",
              "    <tr>\n",
              "      <th>4</th>\n",
              "      <td>3</td>\n",
              "      <td>MARSEILLE</td>\n",
              "      <td>13010</td>\n",
              "      <td>1684.0</td>\n",
              "      <td>586.03</td>\n",
              "      <td>180</td>\n",
              "      <td>immobilier</td>\n",
              "      <td>1.014</td>\n",
              "    </tr>\n",
              "  </tbody>\n",
              "</table>\n",
              "</div>"
            ],
            "text/plain": [
              "   identifiant      ville     CP  revenu  remboursement  duree        type  \\\n",
              "0            0   TOULOUSE  31100  3669.0        1130.05    240  immobilier   \n",
              "1            1      PARIS  75009  5310.0         240.00     64  automobile   \n",
              "2            1      PARIS  75009  5310.0        1247.85    300  immobilier   \n",
              "3            2  MARSEILLE  13010  1873.0         552.54    240  immobilier   \n",
              "4            3  MARSEILLE  13010  1684.0         586.03    180  immobilier   \n",
              "\n",
              "    taux  \n",
              "0  1.168  \n",
              "1  3.701  \n",
              "2  1.173  \n",
              "3  0.972  \n",
              "4  1.014  "
            ]
          },
          "execution_count": 2,
          "metadata": {},
          "output_type": "execute_result"
        }
      ],
      "source": [
        "prets = pd.read_csv('https://raw.githubusercontent.com/benjaminmrl/data-4452741/main/prets.csv')\n",
        "prets.head()"
      ]
    },
    {
      "cell_type": "markdown",
      "id": "2737bc48",
      "metadata": {
        "id": "2737bc48"
      },
      "source": [
        "Dans un premier temps, créez une nouvelle variable calculant le taux d'endettement de chaque individu. Ce taux correspond au pourcentage du revenu remboursé chaque mois par un individu. Vous arrondirez le résultat à 2 chiffres après la virgule :"
      ]
    },
    {
      "cell_type": "code",
      "execution_count": null,
      "id": "c03a449a",
      "metadata": {
        "id": "c03a449a"
      },
      "outputs": [],
      "source": [
        "prets['taux_endettement'] = round(prets['remboursement'] * 100 / prets['revenu'], 2)"
      ]
    },
    {
      "cell_type": "markdown",
      "id": "a9affd09",
      "metadata": {
        "id": "a9affd09"
      },
      "source": [
        "Pour éviter toute confusion, renommez la variable `taux` en `taux_interet` :"
      ]
    },
    {
      "cell_type": "code",
      "execution_count": null,
      "id": "3bc0fec9",
      "metadata": {
        "id": "3bc0fec9"
      },
      "outputs": [],
      "source": [
        "prets.rename(columns={'taux':'taux_interet'}, inplace=True)"
      ]
    },
    {
      "cell_type": "markdown",
      "id": "eab0df2b",
      "metadata": {
        "id": "eab0df2b"
      },
      "source": [
        "Le dataframe devrait ressembler à cela :"
      ]
    },
    {
      "cell_type": "code",
      "execution_count": null,
      "id": "b38f14c0",
      "metadata": {
        "id": "b38f14c0",
        "outputId": "4b8de0ec-86a8-40ee-8118-adf275102629"
      },
      "outputs": [
        {
          "data": {
            "text/html": [
              "<div>\n",
              "<style scoped>\n",
              "    .dataframe tbody tr th:only-of-type {\n",
              "        vertical-align: middle;\n",
              "    }\n",
              "\n",
              "    .dataframe tbody tr th {\n",
              "        vertical-align: top;\n",
              "    }\n",
              "\n",
              "    .dataframe thead th {\n",
              "        text-align: right;\n",
              "    }\n",
              "</style>\n",
              "<table border=\"1\" class=\"dataframe\">\n",
              "  <thead>\n",
              "    <tr style=\"text-align: right;\">\n",
              "      <th></th>\n",
              "      <th>identifiant</th>\n",
              "      <th>ville</th>\n",
              "      <th>CP</th>\n",
              "      <th>revenu</th>\n",
              "      <th>remboursement</th>\n",
              "      <th>duree</th>\n",
              "      <th>type</th>\n",
              "      <th>taux_interet</th>\n",
              "      <th>taux_endettement</th>\n",
              "    </tr>\n",
              "  </thead>\n",
              "  <tbody>\n",
              "    <tr>\n",
              "      <th>0</th>\n",
              "      <td>0</td>\n",
              "      <td>TOULOUSE</td>\n",
              "      <td>31100</td>\n",
              "      <td>3669.0</td>\n",
              "      <td>1130.05</td>\n",
              "      <td>240</td>\n",
              "      <td>immobilier</td>\n",
              "      <td>1.168</td>\n",
              "      <td>30.80</td>\n",
              "    </tr>\n",
              "    <tr>\n",
              "      <th>1</th>\n",
              "      <td>1</td>\n",
              "      <td>PARIS</td>\n",
              "      <td>75009</td>\n",
              "      <td>5310.0</td>\n",
              "      <td>240.00</td>\n",
              "      <td>64</td>\n",
              "      <td>automobile</td>\n",
              "      <td>3.701</td>\n",
              "      <td>4.52</td>\n",
              "    </tr>\n",
              "    <tr>\n",
              "      <th>2</th>\n",
              "      <td>1</td>\n",
              "      <td>PARIS</td>\n",
              "      <td>75009</td>\n",
              "      <td>5310.0</td>\n",
              "      <td>1247.85</td>\n",
              "      <td>300</td>\n",
              "      <td>immobilier</td>\n",
              "      <td>1.173</td>\n",
              "      <td>23.50</td>\n",
              "    </tr>\n",
              "    <tr>\n",
              "      <th>3</th>\n",
              "      <td>2</td>\n",
              "      <td>MARSEILLE</td>\n",
              "      <td>13010</td>\n",
              "      <td>1873.0</td>\n",
              "      <td>552.54</td>\n",
              "      <td>240</td>\n",
              "      <td>immobilier</td>\n",
              "      <td>0.972</td>\n",
              "      <td>29.50</td>\n",
              "    </tr>\n",
              "    <tr>\n",
              "      <th>4</th>\n",
              "      <td>3</td>\n",
              "      <td>MARSEILLE</td>\n",
              "      <td>13010</td>\n",
              "      <td>1684.0</td>\n",
              "      <td>586.03</td>\n",
              "      <td>180</td>\n",
              "      <td>immobilier</td>\n",
              "      <td>1.014</td>\n",
              "      <td>34.80</td>\n",
              "    </tr>\n",
              "  </tbody>\n",
              "</table>\n",
              "</div>"
            ],
            "text/plain": [
              "   identifiant      ville     CP  revenu  remboursement  duree        type  \\\n",
              "0            0   TOULOUSE  31100  3669.0        1130.05    240  immobilier   \n",
              "1            1      PARIS  75009  5310.0         240.00     64  automobile   \n",
              "2            1      PARIS  75009  5310.0        1247.85    300  immobilier   \n",
              "3            2  MARSEILLE  13010  1873.0         552.54    240  immobilier   \n",
              "4            3  MARSEILLE  13010  1684.0         586.03    180  immobilier   \n",
              "\n",
              "   taux_interet  taux_endettement  \n",
              "0         1.168             30.80  \n",
              "1         3.701              4.52  \n",
              "2         1.173             23.50  \n",
              "3         0.972             29.50  \n",
              "4         1.014             34.80  "
            ]
          },
          "execution_count": 5,
          "metadata": {},
          "output_type": "execute_result"
        }
      ],
      "source": [
        "prets.head()"
      ]
    },
    {
      "cell_type": "markdown",
      "id": "1f3074e6",
      "metadata": {
        "id": "1f3074e6"
      },
      "source": [
        "Nous allons à présent créer deux dernières variables : \n",
        "- `cout_total` correspondant au cout total du pret à partir du `remboursement` et de la `duree`\n",
        "- `benefices` correspondant aux **bénéfices mensuels** réalisés par la banque sur le prêt\n",
        "\n",
        "Nous simplifierons ici le calcul des bénéfices par : \n",
        "\n",
        "bénéfices = $\\dfrac{C * T}{24} $\n",
        "\n",
        "avec :\n",
        "- C = cout total du prêt\n",
        "- T = taux d'intérêt"
      ]
    },
    {
      "cell_type": "code",
      "execution_count": null,
      "id": "7dfdb5e8",
      "metadata": {
        "id": "7dfdb5e8"
      },
      "outputs": [],
      "source": [
        "prets['cout_total'] = prets['remboursement'] * prets['duree']\n",
        "prets['benefices'] = round((prets['cout_total'] * prets['taux_interet']/100)/(24), 2)"
      ]
    },
    {
      "cell_type": "markdown",
      "id": "193e1033",
      "metadata": {
        "id": "193e1033"
      },
      "source": [
        "Vous devriez obtenir les 5 premières lignes suivantes :"
      ]
    },
    {
      "cell_type": "code",
      "execution_count": null,
      "id": "75da3cf4",
      "metadata": {
        "id": "75da3cf4",
        "outputId": "eec1e660-b107-4011-c10a-b46e112f9bd1"
      },
      "outputs": [
        {
          "data": {
            "text/html": [
              "<div>\n",
              "<style scoped>\n",
              "    .dataframe tbody tr th:only-of-type {\n",
              "        vertical-align: middle;\n",
              "    }\n",
              "\n",
              "    .dataframe tbody tr th {\n",
              "        vertical-align: top;\n",
              "    }\n",
              "\n",
              "    .dataframe thead th {\n",
              "        text-align: right;\n",
              "    }\n",
              "</style>\n",
              "<table border=\"1\" class=\"dataframe\">\n",
              "  <thead>\n",
              "    <tr style=\"text-align: right;\">\n",
              "      <th></th>\n",
              "      <th>identifiant</th>\n",
              "      <th>ville</th>\n",
              "      <th>CP</th>\n",
              "      <th>revenu</th>\n",
              "      <th>remboursement</th>\n",
              "      <th>duree</th>\n",
              "      <th>type</th>\n",
              "      <th>taux_interet</th>\n",
              "      <th>taux_endettement</th>\n",
              "      <th>cout_total</th>\n",
              "      <th>benefices</th>\n",
              "    </tr>\n",
              "  </thead>\n",
              "  <tbody>\n",
              "    <tr>\n",
              "      <th>0</th>\n",
              "      <td>0</td>\n",
              "      <td>TOULOUSE</td>\n",
              "      <td>31100</td>\n",
              "      <td>3669.0</td>\n",
              "      <td>1130.05</td>\n",
              "      <td>240</td>\n",
              "      <td>immobilier</td>\n",
              "      <td>1.168</td>\n",
              "      <td>30.80</td>\n",
              "      <td>271212.0</td>\n",
              "      <td>131.99</td>\n",
              "    </tr>\n",
              "    <tr>\n",
              "      <th>1</th>\n",
              "      <td>1</td>\n",
              "      <td>PARIS</td>\n",
              "      <td>75009</td>\n",
              "      <td>5310.0</td>\n",
              "      <td>240.00</td>\n",
              "      <td>64</td>\n",
              "      <td>automobile</td>\n",
              "      <td>3.701</td>\n",
              "      <td>4.52</td>\n",
              "      <td>15360.0</td>\n",
              "      <td>23.69</td>\n",
              "    </tr>\n",
              "    <tr>\n",
              "      <th>2</th>\n",
              "      <td>1</td>\n",
              "      <td>PARIS</td>\n",
              "      <td>75009</td>\n",
              "      <td>5310.0</td>\n",
              "      <td>1247.85</td>\n",
              "      <td>300</td>\n",
              "      <td>immobilier</td>\n",
              "      <td>1.173</td>\n",
              "      <td>23.50</td>\n",
              "      <td>374355.0</td>\n",
              "      <td>182.97</td>\n",
              "    </tr>\n",
              "    <tr>\n",
              "      <th>3</th>\n",
              "      <td>2</td>\n",
              "      <td>MARSEILLE</td>\n",
              "      <td>13010</td>\n",
              "      <td>1873.0</td>\n",
              "      <td>552.54</td>\n",
              "      <td>240</td>\n",
              "      <td>immobilier</td>\n",
              "      <td>0.972</td>\n",
              "      <td>29.50</td>\n",
              "      <td>132609.6</td>\n",
              "      <td>53.71</td>\n",
              "    </tr>\n",
              "    <tr>\n",
              "      <th>4</th>\n",
              "      <td>3</td>\n",
              "      <td>MARSEILLE</td>\n",
              "      <td>13010</td>\n",
              "      <td>1684.0</td>\n",
              "      <td>586.03</td>\n",
              "      <td>180</td>\n",
              "      <td>immobilier</td>\n",
              "      <td>1.014</td>\n",
              "      <td>34.80</td>\n",
              "      <td>105485.4</td>\n",
              "      <td>44.57</td>\n",
              "    </tr>\n",
              "  </tbody>\n",
              "</table>\n",
              "</div>"
            ],
            "text/plain": [
              "   identifiant      ville     CP  revenu  remboursement  duree        type  \\\n",
              "0            0   TOULOUSE  31100  3669.0        1130.05    240  immobilier   \n",
              "1            1      PARIS  75009  5310.0         240.00     64  automobile   \n",
              "2            1      PARIS  75009  5310.0        1247.85    300  immobilier   \n",
              "3            2  MARSEILLE  13010  1873.0         552.54    240  immobilier   \n",
              "4            3  MARSEILLE  13010  1684.0         586.03    180  immobilier   \n",
              "\n",
              "   taux_interet  taux_endettement  cout_total  benefices  \n",
              "0         1.168             30.80    271212.0     131.99  \n",
              "1         3.701              4.52     15360.0      23.69  \n",
              "2         1.173             23.50    374355.0     182.97  \n",
              "3         0.972             29.50    132609.6      53.71  \n",
              "4         1.014             34.80    105485.4      44.57  "
            ]
          },
          "execution_count": 7,
          "metadata": {},
          "output_type": "execute_result"
        }
      ],
      "source": [
        "prets.head()"
      ]
    },
    {
      "cell_type": "markdown",
      "id": "de500ac8",
      "metadata": {
        "id": "de500ac8"
      },
      "source": [
        "A présent, nous souhaitons connaitre les 5 prêts sur lesquels nous produisons le plus de bénéfices. Mettez en place une solution pour les afficher :"
      ]
    },
    {
      "cell_type": "code",
      "execution_count": null,
      "id": "6dd503c9",
      "metadata": {
        "id": "6dd503c9",
        "outputId": "02379573-5997-4200-a714-c6e924abe123"
      },
      "outputs": [
        {
          "data": {
            "text/html": [
              "<div>\n",
              "<style scoped>\n",
              "    .dataframe tbody tr th:only-of-type {\n",
              "        vertical-align: middle;\n",
              "    }\n",
              "\n",
              "    .dataframe tbody tr th {\n",
              "        vertical-align: top;\n",
              "    }\n",
              "\n",
              "    .dataframe thead th {\n",
              "        text-align: right;\n",
              "    }\n",
              "</style>\n",
              "<table border=\"1\" class=\"dataframe\">\n",
              "  <thead>\n",
              "    <tr style=\"text-align: right;\">\n",
              "      <th></th>\n",
              "      <th>identifiant</th>\n",
              "      <th>ville</th>\n",
              "      <th>CP</th>\n",
              "      <th>revenu</th>\n",
              "      <th>remboursement</th>\n",
              "      <th>duree</th>\n",
              "      <th>type</th>\n",
              "      <th>taux_interet</th>\n",
              "      <th>taux_endettement</th>\n",
              "      <th>cout_total</th>\n",
              "      <th>benefices</th>\n",
              "    </tr>\n",
              "  </thead>\n",
              "  <tbody>\n",
              "    <tr>\n",
              "      <th>8</th>\n",
              "      <td>7</td>\n",
              "      <td>NICE</td>\n",
              "      <td>6000</td>\n",
              "      <td>5486.0</td>\n",
              "      <td>2956.95</td>\n",
              "      <td>300</td>\n",
              "      <td>immobilier</td>\n",
              "      <td>1.184</td>\n",
              "      <td>53.9</td>\n",
              "      <td>887085.0</td>\n",
              "      <td>437.63</td>\n",
              "    </tr>\n",
              "    <tr>\n",
              "      <th>23</th>\n",
              "      <td>22</td>\n",
              "      <td>NICE</td>\n",
              "      <td>6300</td>\n",
              "      <td>5838.0</td>\n",
              "      <td>3018.25</td>\n",
              "      <td>240</td>\n",
              "      <td>immobilier</td>\n",
              "      <td>1.229</td>\n",
              "      <td>51.7</td>\n",
              "      <td>724380.0</td>\n",
              "      <td>370.94</td>\n",
              "    </tr>\n",
              "    <tr>\n",
              "      <th>186</th>\n",
              "      <td>173</td>\n",
              "      <td>PARIS</td>\n",
              "      <td>75006</td>\n",
              "      <td>6784.0</td>\n",
              "      <td>3744.77</td>\n",
              "      <td>180</td>\n",
              "      <td>immobilier</td>\n",
              "      <td>1.248</td>\n",
              "      <td>55.2</td>\n",
              "      <td>674058.6</td>\n",
              "      <td>350.51</td>\n",
              "    </tr>\n",
              "    <tr>\n",
              "      <th>242</th>\n",
              "      <td>226</td>\n",
              "      <td>PARIS</td>\n",
              "      <td>75002</td>\n",
              "      <td>5098.0</td>\n",
              "      <td>2910.96</td>\n",
              "      <td>240</td>\n",
              "      <td>immobilier</td>\n",
              "      <td>1.140</td>\n",
              "      <td>57.1</td>\n",
              "      <td>698630.4</td>\n",
              "      <td>331.85</td>\n",
              "    </tr>\n",
              "    <tr>\n",
              "      <th>181</th>\n",
              "      <td>168</td>\n",
              "      <td>PARIS</td>\n",
              "      <td>75003</td>\n",
              "      <td>6366.0</td>\n",
              "      <td>2807.41</td>\n",
              "      <td>240</td>\n",
              "      <td>immobilier</td>\n",
              "      <td>1.176</td>\n",
              "      <td>44.1</td>\n",
              "      <td>673778.4</td>\n",
              "      <td>330.15</td>\n",
              "    </tr>\n",
              "  </tbody>\n",
              "</table>\n",
              "</div>"
            ],
            "text/plain": [
              "     identifiant  ville     CP  revenu  remboursement  duree        type  \\\n",
              "8              7   NICE   6000  5486.0        2956.95    300  immobilier   \n",
              "23            22   NICE   6300  5838.0        3018.25    240  immobilier   \n",
              "186          173  PARIS  75006  6784.0        3744.77    180  immobilier   \n",
              "242          226  PARIS  75002  5098.0        2910.96    240  immobilier   \n",
              "181          168  PARIS  75003  6366.0        2807.41    240  immobilier   \n",
              "\n",
              "     taux_interet  taux_endettement  cout_total  benefices  \n",
              "8           1.184              53.9    887085.0     437.63  \n",
              "23          1.229              51.7    724380.0     370.94  \n",
              "186         1.248              55.2    674058.6     350.51  \n",
              "242         1.140              57.1    698630.4     331.85  \n",
              "181         1.176              44.1    673778.4     330.15  "
            ]
          },
          "execution_count": 8,
          "metadata": {},
          "output_type": "execute_result"
        }
      ],
      "source": [
        "prets.sort_values('benefices', ascending=False).head()"
      ]
    },
    {
      "cell_type": "code",
      "execution_count": null,
      "id": "da527089",
      "metadata": {
        "id": "da527089"
      },
      "outputs": [],
      "source": [
        ""
      ]
    }
  ],
  "metadata": {
    "kernelspec": {
      "display_name": "Python 3 (ipykernel)",
      "language": "python",
      "name": "python3"
    },
    "language_info": {
      "codemirror_mode": {
        "name": "ipython",
        "version": 3
      },
      "file_extension": ".py",
      "mimetype": "text/x-python",
      "name": "python",
      "nbconvert_exporter": "python",
      "pygments_lexer": "ipython3",
      "version": "3.9.7"
    },
    "colab": {
      "name": "P2C2 - Manipulez un dataframe - correction.ipynb",
      "provenance": []
    }
  },
  "nbformat": 4,
  "nbformat_minor": 5
}